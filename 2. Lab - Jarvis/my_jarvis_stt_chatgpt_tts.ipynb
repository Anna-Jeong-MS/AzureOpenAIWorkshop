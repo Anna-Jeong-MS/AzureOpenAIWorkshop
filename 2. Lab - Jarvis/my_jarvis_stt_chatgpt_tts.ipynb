{
 "cells": [
  {
   "cell_type": "markdown",
   "metadata": {},
   "source": [
    "# 나만의 자비스! 음성 비서 만들기\n",
    "OpenAI의 ChatGPT의 **Function Calling** 기능을 활용하면, 아이언맨의 자비스와 같은 인공지능 비서를 만들 수 있습니다.  \n",
    "\n",
    "![](assets/stt_chatgpt_tts.png)\n",
    "\n",
    "한국어 대화도 가능합니다. 실시간 대화 기능을 구현하기 위해서 다음의 기술을 활용할 수 있습니다.  \n",
    "\n",
    "1. 사용자의 음성은 Microsoft Azure가 제공하는 STT(Speech to Text) 서비스를 이용하여 텍스트로 변환합니다.\n",
    "2. 텍스트는 ChatGPT가 제공하는 Function Calling 기능을 활용하여 이미 작성되어진 API 또는 코드를 선택적으로 수행합니다.\n",
    "3. 수행 결과는 다시 Microsoft Azure가 제공하는 TTS(Text to Speech)를 이용하여 대답할 수 있습니다.\n",
    "\n",
    "> **Notes**\n",
    ">- 이 코드는 Python 3.11.4 커널에서 테스트 하였습니다.\n",
    ">- 아래 코드는 PoC 용도입니다. 완벽한 코드가 아니므로 참고용으로 활용할 수 있습니다.\n",
    ">- 해당 STT 및 TTS 기능을 활용하기 위해서는 마이크와 스피커와 같은 Hardware를 필요로 합니다. 개발환경이 컨테이너 기반일 경우, 정상 수행되지 않을 수 있습니다."
   ]
  },
  {
   "cell_type": "code",
   "execution_count": null,
   "metadata": {},
   "outputs": [],
   "source": [
    "# 데스크톱(로컬)에서 실행하는 경우 입니다. 아래와 같이 라이브러리 재설치가 필요할 수 있습니다.\n",
    "# 먼저 파이썬 런타임을 설치해야 합니다. https://www.python.org/downloads/\n",
    "%pip install azure-cognitiveservices-speech\n",
    "%pip install azure-identity\n",
    "%pip install -r m./requirements.txt"
   ]
  },
  {
   "cell_type": "markdown",
   "metadata": {},
   "source": [
    "실행에 필요한 환경 변수를 가져옵니다. 아래에 필요한 정보를 미리 .env 파일에 저장합니다.\n",
    "\n",
    "1. Azure OpenAI API 정보\n",
    "2. Azure Speech API 정보\n",
    "3. 의약품개요정보 API 정보 (https://developers.kakao.com/console/app)\n"
   ]
  },
  {
   "cell_type": "code",
   "execution_count": 3,
   "metadata": {},
   "outputs": [],
   "source": [
    "import azure.cognitiveservices.speech as speechsdk\n",
    "import os\n",
    "import openai\n",
    "import json\n",
    "import requests\n",
    "import pytz\n",
    "from urllib import parse\n",
    "from datetime import datetime\n",
    "from dotenv import load_dotenv\n",
    "load_dotenv()\n",
    "\n",
    "# Azure OpenAI resource 정보를 설정합니다.\n",
    "openai.api_type     = \"azure\"\n",
    "openai.api_key      = \"xxxxxxxxxxxxxxxxxx\"\n",
    "openai.api_base     = \"https://<your-openai>.openai.azure.com/\"\n",
    "openai.api_version  = \"2023-07-01-preview\"\n",
    "deployment_id       = \"gpt-35-turbo-16k\"\n",
    "drug_api_key        = \"xxxxxxxxxxxxxxxxxx\"\n",
    "speech_key          = \"xxxxxxxxxxxxxxxxxx\"\n",
    "speech_region       = \"xxxxx\"\n",
    "speech_language     = \"ko-KR\""
   ]
  },
  {
   "cell_type": "markdown",
   "metadata": {},
   "source": [
    "### Azure Speech To Text (STT) 엔진으로 사용자 명령을 텍스트로 수집"
   ]
  },
  {
   "cell_type": "code",
   "execution_count": 4,
   "metadata": {},
   "outputs": [],
   "source": [
    "# Azure Cognitive Speech to Text 함수\n",
    "def stt():\n",
    "    # Creates a recognizer with the given settings\n",
    "    # Azure STT & TTS API key\n",
    "    speech_config = speechsdk.SpeechConfig(subscription=speech_key, region=speech_region, speech_recognition_language='ko-KR')\n",
    "    speech_recognizer = speechsdk.SpeechRecognizer(speech_config=speech_config)\n",
    "\n",
    "    print(\"말씀 하세요~\")\n",
    "\n",
    "    # Starts speech recognition, and returns after a single utterance is recognized. The end of a\n",
    "    # single utterance is determined by listening for silence at the end or until a maximum of 15\n",
    "    # seconds of audio is processed.\n",
    "    result = speech_recognizer.recognize_once()\n",
    "\n",
    "    # Checks result.\n",
    "    if result.reason == speechsdk.ResultReason.RecognizedSpeech:\n",
    "        print(\"음성인식결과: {}\".format(result.text))\n",
    "    elif result.reason == speechsdk.ResultReason.NoMatch:\n",
    "        print(\"일치하는 음성이 없습니다.: {}\".format(result.no_match_details))\n",
    "    elif result.reason == speechsdk.ResultReason.Canceled:\n",
    "        cancellation_details = result.cancellation_details\n",
    "        print(\"음성 인식이 취소되었습니다.: {}\".format(\n",
    "            cancellation_details.reason))\n",
    "        if cancellation_details.reason == speechsdk.CancellationReason.Error:\n",
    "            print(\"Error details: {}\".format(\n",
    "                cancellation_details.err+or_details))\n",
    "    return result"
   ]
  },
  {
   "cell_type": "markdown",
   "metadata": {},
   "source": [
    "### Azure Text To Speech (TTS) 엔진으로 텍스트를 읽음"
   ]
  },
  {
   "cell_type": "code",
   "execution_count": null,
   "metadata": {},
   "outputs": [],
   "source": [
    "# Azure Cognitive Text to Speech 함수\n",
    "def tts(input):\n",
    "    print(input)\n",
    "    # Set the voice name, refer to https://learn.microsoft.com/ko-kr/azure/ai-services/speech-service/language-support?tabs=tts for full list.\n",
    "    # speech_config.speech_synthesis_voice_name = \"ko-KR-InJoonNeural\"\n",
    "    # Creates a synthesizer with the given settings\n",
    "    # Azure STT & TTS API key\n",
    "    speech_config = speechsdk.SpeechConfig(subscription=speech_key, region=speech_region)\n",
    "    speech_config.speech_synthesis_voice_name = \"ko-KR-SeoHyeonNeural\"\n",
    "    speech_synthesizer = speechsdk.SpeechSynthesizer(speech_config=speech_config)\n",
    "\n",
    "    # Synthesizes the received text to speech.\n",
    "    result = speech_synthesizer.speak_text_async(input).get()\n",
    "\n",
    "    # Checks result.\n",
    "    if result.reason == speechsdk.ResultReason.SynthesizingAudioCompleted:\n",
    "        print(\"Speech synthesized to speaker for text [{}]\".format(input))\n",
    "    elif result.reason == speechsdk.ResultReason.Canceled:\n",
    "        cancellation_details = result.cancellation_details\n",
    "        print(\"Speech synthesis canceled: {}\".format(\n",
    "            cancellation_details.reason))\n",
    "        if cancellation_details.reason == speechsdk.CancellationReason.Error:\n",
    "            if cancellation_details.error_details:\n",
    "                print(\"Error details: {}\".format(\n",
    "                    cancellation_details.error_details))\n",
    "        print(\"Did you update the subscription info?\")"
   ]
  },
  {
   "cell_type": "markdown",
   "metadata": {},
   "source": [
    "### Function 1. 약 정보 찾기 API"
   ]
  },
  {
   "cell_type": "code",
   "execution_count": 15,
   "metadata": {},
   "outputs": [],
   "source": [
    "# 약 정보 찾기 API\n",
    "def get_drug_info(drug_name):\n",
    "    headers = {\n",
    "        \"Content-Type\": \"application/json\"\n",
    "    }\n",
    "    params = {\n",
    "        \"serviceKey\": drug_api_key,\n",
    "        \"pageNo\": 1,\n",
    "        \"numOfRows\": 3,\n",
    "        \"itemName\": drug_name,\n",
    "        \"type\": \"json\"\n",
    "    }\n",
    "    url = \"https://apis.data.go.kr/1471000/DrbEasyDrugInfoService/getDrbEasyDrugList?{}\".format(\"&\".join([f\"{k}={v}\" for k, v in params.items()]))\n",
    "    response = requests.get(url, headers=headers)\n",
    "    \n",
    "    response_summary = response.json()[\"body\"][\"items\"][0]\n",
    "    return_data = {\n",
    "        \"efcyQesitm\": response_summary[\"efcyQesitm\"]\n",
    "    }\n",
    "    \n",
    "    return json.dumps(return_data, ensure_ascii=False)\n"
   ]
  },
  {
   "cell_type": "markdown",
   "metadata": {},
   "source": [
    "### Function 2. 약 사용법 찾기 API"
   ]
  },
  {
   "cell_type": "code",
   "execution_count": 16,
   "metadata": {},
   "outputs": [],
   "source": [
    "# 약 사용법 찾기 API\n",
    "def get_drug_usage(drug_name):\n",
    "    headers = {\n",
    "        \"Content-Type\": \"application/json\"\n",
    "    }\n",
    "    params = {\n",
    "        \"serviceKey\": drug_api_key,\n",
    "        \"pageNo\": 1,\n",
    "        \"numOfRows\": 3,\n",
    "        \"itemName\": drug_name,\n",
    "        \"type\": \"json\"\n",
    "    }\n",
    "    url = \"https://apis.data.go.kr/1471000/DrbEasyDrugInfoService/getDrbEasyDrugList?{}\".format(\"&\".join([f\"{k}={v}\" for k, v in params.items()]))\n",
    "    response = requests.get(url, headers=headers)\n",
    "    \n",
    "    response_summary = response.json()[\"body\"][\"items\"][0]\n",
    "    return_data = {\n",
    "        \"useMethodQesitm\": response_summary[\"useMethodQesitm\"]\n",
    "    }\n",
    "    \n",
    "    return json.dumps(return_data, ensure_ascii=False)\n"
   ]
  },
  {
   "cell_type": "markdown",
   "metadata": {},
   "source": [
    "#### 약 정보 찾기 API 동작 체크"
   ]
  },
  {
   "cell_type": "code",
   "execution_count": 8,
   "metadata": {},
   "outputs": [
    {
     "name": "stdout",
     "output_type": "stream",
     "text": [
      "{\"itemName\": \"어린이타이레놀산160밀리그램(아세트아미노펜)\", \"efcyQesitm\": \"이 약은 감기로 인한 발열 및 동통(통증), 두통, 신경통, 근육통, 월경통, 염좌통(삔 통증), 치통, 관절통, 류마티양 동통(통증)에 사용합니다.\\n\"}\n"
     ]
    }
   ],
   "source": [
    "response = get_drug_info(\"타이레놀\")\n",
    "print(response)"
   ]
  },
  {
   "cell_type": "markdown",
   "metadata": {},
   "source": [
    "### OpenAI Function Calling에서 활용하려는 함수들을 정의"
   ]
  },
  {
   "cell_type": "code",
   "execution_count": 9,
   "metadata": {},
   "outputs": [],
   "source": [
    "functions = [\n",
    "        {\n",
    "            \"name\": \"get_drug_info\",\n",
    "            \"description\": \"API that tells drug information by saying the drug name\",\n",
    "            \"parameters\": {\n",
    "                \"type\": \"object\",\n",
    "                \"properties\": {\n",
    "                    \"drug_name\": {\"type\": \"string\"},        \n",
    "                },\n",
    "                \"required\": [\"drug_name\"],\n",
    "            },\n",
    "        },\n",
    "        {\n",
    "            \"name\": \"get_drug_usage\",\n",
    "            \"description\": \"API that tells how to use the drug by saying the drug name\",\n",
    "            \"parameters\": {\n",
    "                \"type\": \"object\",\n",
    "                \"properties\": {\n",
    "                    \"drug_name\": {\"type\": \"string\"},        \n",
    "                },\n",
    "                \"required\": [\"drug_name\"]\n",
    "            }\n",
    "        }\n",
    "    ]\n",
    "\n",
    "available_functions = {\n",
    "            \"get_drug_info\": get_drug_info,\n",
    "            \"get_drug_usage\": get_drug_usage\n",
    "        } "
   ]
  },
  {
   "cell_type": "markdown",
   "metadata": {},
   "source": [
    "#### 함수에 제공되는 매개변수가 맞는지 검수하는 함수"
   ]
  },
  {
   "cell_type": "code",
   "execution_count": 10,
   "metadata": {},
   "outputs": [],
   "source": [
    "import inspect\n",
    "\n",
    "# helper method used to check if the correct arguments are provided to a function\n",
    "def check_args(function, args):\n",
    "    sig = inspect.signature(function)\n",
    "    params = sig.parameters\n",
    "\n",
    "    # Check if there are extra arguments\n",
    "    for name in args:\n",
    "        if name not in params:\n",
    "            return False\n",
    "    # Check if the required arguments are provided \n",
    "    for name, param in params.items():\n",
    "        if param.default is param.empty and name not in args:\n",
    "            return False\n",
    "\n",
    "    return True"
   ]
  },
  {
   "cell_type": "markdown",
   "metadata": {},
   "source": [
    "#### OpenAI GPT 모델을 이용하여 사용자 의도에 맞는 함수를 자동 선택하고 실행하는 함수"
   ]
  },
  {
   "cell_type": "code",
   "execution_count": 11,
   "metadata": {},
   "outputs": [],
   "source": [
    "def run_conversation(messages, functions, available_functions, deployment_id):\n",
    "    # Step 1: send the conversation and available functions to GPT\n",
    "    try:\n",
    "        response = openai.ChatCompletion.create(\n",
    "            deployment_id=deployment_id,\n",
    "            messages=messages,\n",
    "            functions=functions,\n",
    "            function_call=\"auto\", \n",
    "        )\n",
    "    except Exception as e:\n",
    "        print(e)\n",
    "\n",
    "\n",
    "    # print(response)\n",
    "    response_message = response[\"choices\"][0][\"message\"]\n",
    "    \n",
    "\n",
    "    # Step 2: check if GPT wanted to call a function\n",
    "    if response_message.get(\"function_call\"):\n",
    "        # print(\"Recommended Function call:\")\n",
    "        # print(response_message.get(\"function_call\"))\n",
    "        # print()\n",
    "        \n",
    "        # Step 3: call the function\n",
    "        # Note: the JSON response may not always be valid; be sure to handle errors\n",
    "        function_name = response_message[\"function_call\"][\"name\"]\n",
    "        \n",
    "        # verify function exists\n",
    "        if function_name not in available_functions:\n",
    "            return \"Function \" + function_name + \" does not exist\"\n",
    "        fuction_to_call = available_functions[function_name]  \n",
    "        \n",
    "        # verify function has correct number of arguments\n",
    "        function_args = json.loads(response_message[\"function_call\"][\"arguments\"])\n",
    "        if check_args(fuction_to_call, function_args) is False:\n",
    "            return \"Invalid number of arguments for function: \" + function_name\n",
    "        function_response = fuction_to_call(**function_args)\n",
    "        \n",
    "        # print(\"Output of function call:\")\n",
    "        # print(function_response)\n",
    "        # print()\n",
    "        \n",
    "        # Step 4: send the info on the function call and function response to GPT\n",
    "        \n",
    "        # function_name 값에 따른 분기 처리\n",
    "        if function_name == \"get_drug_info\":\n",
    "            messages.append(\n",
    "                {\"role\": \"system\", \"content\": \"You are a bot that provide drug information.\",}\n",
    "            )\n",
    "        elif function_name == \"get_drug_usage\":\n",
    "            messages.append(\n",
    "                {\"role\": \"system\", \"content\": \"You are a bot that tells you how to use the medicine.\",}\n",
    "            )\n",
    "        else :\n",
    "            messages.append(\n",
    "                {\"role\": \"system\", \"content\": \"You are an AI assistant that helps people find information. The answer must be judged and answered based on factual data. Please use simple expressions as much as possible.\"},\n",
    "            )\n",
    "        \n",
    "        # adding assistant response to messages\n",
    "        messages.append(\n",
    "            {\n",
    "                \"role\": response_message[\"role\"],\n",
    "                \"name\": response_message[\"function_call\"][\"name\"],\n",
    "                \"content\": response_message[\"function_call\"][\"arguments\"],\n",
    "            }\n",
    "        )\n",
    "\n",
    "        # adding function response to messages\n",
    "        messages.append(\n",
    "            {\n",
    "                \"role\": \"function\",\n",
    "                \"name\": function_name,\n",
    "                \"content\": function_response,\n",
    "            }\n",
    "        )  # extend conversation with function response\n",
    "\n",
    "        # print(\"Messages in second request:\")\n",
    "        # for message in messages:\n",
    "        # print(messages)\n",
    "        # print(json.dumps(messages, ensure_ascii=False, indent=4))\n",
    "\n",
    "        second_response = openai.ChatCompletion.create(\n",
    "            messages=messages,\n",
    "            deployment_id=deployment_id,\n",
    "            temperature=0\n",
    "        )  # get a new response from GPT where it can see the function response\n",
    "        \n",
    "        # print(\"Second Call: \")\n",
    "        # print(second_response)\n",
    "        # print()\n",
    "\n",
    "        return second_response"
   ]
  },
  {
   "cell_type": "markdown",
   "metadata": {},
   "source": [
    "#### GPT 모델에 자연어 기반 질의하는 함수\n",
    "해당 실습에서는 Function Calling에 해당되지 않는 요청하면 종료합니다."
   ]
  },
  {
   "cell_type": "code",
   "execution_count": 12,
   "metadata": {},
   "outputs": [],
   "source": [
    "def gpt(input):\n",
    "    messages = [\n",
    "        {\"role\": \"user\", \"content\": input}\n",
    "    ]\n",
    "    assistant_response = run_conversation(messages, functions, available_functions, deployment_id)\n",
    "    # assistant_response 값이 비어있을 경우\n",
    "    if not assistant_response:\n",
    "        return \"제가 답변 드릴 수 있는 질문이 아닙니다. 다시 질문해주세요.\"\n",
    "    else:\n",
    "        content = json.dumps(assistant_response['choices'][0]['message'][\"content\"], ensure_ascii=False, indent=4)\n",
    "        content = content.replace(\"\\\\n\", \"\\n\").replace(\"\\\\\\\"\", \"\\\"\")\n",
    "        return content\n"
   ]
  },
  {
   "cell_type": "markdown",
   "metadata": {},
   "source": [
    "GPT에 질의하여 각 기능이 정상적으로 동작하는지 살펴 봅니다."
   ]
  },
  {
   "cell_type": "code",
   "execution_count": 17,
   "metadata": {},
   "outputs": [
    {
     "name": "stdout",
     "output_type": "stream",
     "text": [
      "\"타이레놀은 다음과 같은 복용법을 따릅니다:\n",
      "\n",
      "- 어린이타이레놀산 160밀리그램(아세트아미노펜)은 만 7~12세 소아를 대상으로 합니다.\n",
      "- 1회 권장용량을 4~6시간마다 필요 시 물 없이 혀에 직접 복용합니다.\n",
      "- 가능한 최단 기간 동안 최소 유효용량으로 복용하며, 1일 5회(75 mg/kg)를 초과하여 복용하지 않습니다.\n",
      "- 몸무게를 아는 경우, 몸무게에 따른 용량(10~15 mg/kg)으로 복용하는 것이 더 적절합니다.\n",
      "- 자세한 사항은 허가사항 상세정보를 참고하시기 바랍니다.\n",
      "\n",
      "위의 정보는 어린이타이레놀산 160밀리그램(아세트아미노펜)에 대한 복용법입니다. 다른 제품의 경우, 제품에 표기된 사용법을 따르시기 바랍니다.\"\n"
     ]
    }
   ],
   "source": [
    "drug_name = \"타이레놀\"\n",
    "query = f\"{drug_name}은 복용법 알려줘\"\n",
    "\n",
    "print(gpt(query))"
   ]
  },
  {
   "cell_type": "code",
   "execution_count": 24,
   "metadata": {},
   "outputs": [
    {
     "name": "stdout",
     "output_type": "stream",
     "text": [
      "Speech synthesized to speaker for text [약의 정보, 복용법 등을 물어보세요.]\n",
      "말씀 하세요~\n",
      "음성인식결과: 타이레놀은 어떤 약이야?\n",
      "타이레놀은 어떤 약이야?\n",
      "\"타이레놀은 아세트아미노펜이라는 활성 성분을 포함한 약으로, 감기로 인한 발열, 동통(통증), 두통, 신경통, 근육통, 월경통, 염좌통(삔 통증), 치통, 관절통, 류마티양 동통(통증) 등을 완화하기 위해 사용됩니다.\"\n",
      "Speech synthesized to speaker for text [\"타이레놀은 아세트아미노펜이라는 활성 성분을 포함한 약으로, 감기로 인한 발열, 동통(통증), 두통, 신경통, 근육통, 월경통, 염좌통(삔 통증), 치통, 관절통, 류마티양 동통(통증) 등을 완화하기 위해 사용됩니다.\"]\n",
      "말씀 하세요~\n",
      "음성인식결과: 종료.\n",
      "종료.\n",
      "대화 종료\n"
     ]
    }
   ],
   "source": [
    "# if __name__ == \"__main__\":\n",
    "tts(\"약의 정보, 복용법 등을 물어보세요.\")\n",
    "\n",
    "while True:\n",
    "    result_stt = stt().text\n",
    "    print(result_stt)\n",
    "    if(result_stt == \"\"):\n",
    "        # 음성 인식 실패\n",
    "        print(\"음성 인식 실패\")\n",
    "        tts(\"음성인식에 실패했습니다. 다시 말씀해 주세요.\")\n",
    "    elif(result_stt == \"나가기.\" or result_stt == \"종료.\"):\n",
    "        print(\"대화 종료\")\n",
    "        break\n",
    "    else:\n",
    "        # 음성인식 성공\n",
    "        result_gpt = gpt(result_stt)\n",
    "        print(result_gpt)\n",
    "        tts(result_gpt)"
   ]
  },
  {
   "cell_type": "markdown",
   "metadata": {},
   "source": [
    "이제부터는 **여러분의 API** 를 하나씩 추가해 보세요.\n",
    "수고하셨습니다."
   ]
  }
 ],
 "metadata": {
  "kernelspec": {
   "display_name": "Python 3",
   "language": "python",
   "name": "python3"
  },
  "language_info": {
   "codemirror_mode": {
    "name": "ipython",
    "version": 3
   },
   "file_extension": ".py",
   "mimetype": "text/x-python",
   "name": "python",
   "nbconvert_exporter": "python",
   "pygments_lexer": "ipython3",
   "version": "3.11.8"
  },
  "orig_nbformat": 4
 },
 "nbformat": 4,
 "nbformat_minor": 2
}
